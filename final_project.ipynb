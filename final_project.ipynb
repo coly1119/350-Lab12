{
  "nbformat": 4,
  "nbformat_minor": 0,
  "metadata": {
    "colab": {
      "name": "final_project.ipynb",
      "provenance": [],
      "collapsed_sections": [],
      "toc_visible": true,
      "include_colab_link": true
    },
    "kernelspec": {
      "name": "python3",
      "display_name": "Python 3"
    },
    "accelerator": "GPU"
  },
  "cells": [
    {
      "cell_type": "markdown",
      "metadata": {
        "id": "view-in-github",
        "colab_type": "text"
      },
      "source": [
        "<a href=\"https://colab.research.google.com/github/coly1119/36-350/blob/master/final_project.ipynb\" target=\"_parent\"><img src=\"https://colab.research.google.com/assets/colab-badge.svg\" alt=\"Open In Colab\"/></a>"
      ]
    },
    {
      "cell_type": "markdown",
      "metadata": {
        "id": "Qu60HVQQOMQf",
        "colab_type": "text"
      },
      "source": [
        "<div>\n",
        "<img src=\"logo.jpg\" width=\"200\"/>\n",
        "</div>\n",
        "\n",
        "#Is it Legendary?\n"
      ]
    },
    {
      "cell_type": "markdown",
      "metadata": {
        "id": "G2E4Jz6eM5tN",
        "colab_type": "text"
      },
      "source": [
        "#Introduction\n",
        "\n",
        "Pokemon was a big part of our childhoods. We grew up hunting legendary Pokemon and battling our way to the top of the game. There are Pokemon that are better than others and Pokemon that are very useful for very specific situations like swimming in water or breaking down boulders. These traits and abilities are decided by the stats each Pokemon have. Pokemon have different types and abilities like speed, attack, and defense. These stats allow for a very rich data set on Pokemon and can allow for us to make inferences about Pokemon and how they relate. \n",
        "We thus wanted to see if we could use these stats to predict whether or not a Pokemon is a legendary. That is to say, is there a feature set that can be used to define the legendary class. Our process will look like the following:\n",
        "<div>\n",
        "<img src=\"wf.jpg\" width=\"600\"/>\n",
        "</div>\n",
        "\n"
      ]
    },
    {
      "cell_type": "markdown",
      "metadata": {
        "id": "n_VUpWZPViLI",
        "colab_type": "text"
      },
      "source": [
        "##Data Retrieval\n",
        "\n",
        "Information on the stats of each Pokemon are stored in a database called the Pokedex in the games, movies, and shows. A website called serebii.net contains the Pokedex entry for every Pokemon in all eight generations.\n",
        "We used Beautiful Soup to parse the html of the web page and retreieve the stats of each Pokemon. We then hand labeled each Pokemon as legendary or not by searching through the list of legendary Pokemon on cerebii.net. \n",
        "Unfortunately, there are only 73 legendary Pokemon out of 890 Pokemon which is about 8.2 percent of all Pokemon. This is a small amount of data points and would thus be really hard to accurately predict. To fix this, we decided to look at the stats of legendary Pokemon and see if we could find some basic correlation of the values of stats and whether a Pokemon was legendary or not. \n",
        "\n",
        "Below are the necessary packages (as well as sklearn used later) for this project. Any missing projects can be installed with the pip install command. For further questions, address: https://pip.pypa.io/en/stable/reference/pip_install/"
      ]
    },
    {
      "cell_type": "code",
      "metadata": {
        "id": "65U11D3Q5Pic",
        "colab_type": "code",
        "colab": {}
      },
      "source": [
        "import requests\n",
        "from bs4 import BeautifulSoup\n",
        "import pandas as pd\n",
        "import re\n",
        "import numpy as np\n",
        "from plotnine import *\n",
        "%matplotlib inline"
      ],
      "execution_count": 0,
      "outputs": []
    },
    {
      "cell_type": "markdown",
      "metadata": {
        "id": "5pKoU9ioe--h",
        "colab_type": "text"
      },
      "source": [
        "Scraping the webpage (https://serebii.net/pokemon/all.shtml) with all of the Pokemon listed with their individual stats is down in the block below."
      ]
    },
    {
      "cell_type": "code",
      "metadata": {
        "id": "6afqqqP85T5V",
        "colab_type": "code",
        "colab": {}
      },
      "source": [
        "def get_Pokemon(url):\n",
        "    #initialize BeautifulSoup and variables\n",
        "    r = requests.get(url)\n",
        "    soup = BeautifulSoup(r.content, 'html5lib')\n",
        "    i = 0\n",
        "    data_mat = []\n",
        "\n",
        "    #scrape website for Pokemon stats\n",
        "    for pokemon in soup.find_all('td',attrs = {'align': 'center', \"class\": [\"fooinfo\",\"fooben\"]}):\n",
        "        if i % 11 == 2:\n",
        "            stats = []\n",
        "            #name of Pokemon\n",
        "            stats.append(pokemon.text.strip())\n",
        "        elif i % 11 == 3:\n",
        "            #type of Pokemon\n",
        "            types = []\n",
        "            for ty in pokemon.find_all('a',href=re.compile('/pokemon/type/(.*)')):\n",
        "                curr = re.search('/pokemon/type/(.*)', ty[\"href\"]).group(1).upper()\n",
        "                types.append(curr)\n",
        "            stats.append(types)\n",
        "        elif i % 11 > 4 and i % 11 < 10:\n",
        "            #stats of Pokemon\n",
        "            stats.append(float(pokemon.text.strip()))\n",
        "        elif i % 11 == 10:\n",
        "            #final of Pokemon, append to the overal list\n",
        "            stats.append(float(pokemon.text.strip()))\n",
        "            data_mat.append(stats)\n",
        "        \n",
        "        i += 1\n",
        "    \n",
        "    #convert to pandas data frame\n",
        "    df = pd.DataFrame(data_mat, columns=['Name', 'Type', 'HP', \"Att\", \"Def\", \"S.Att\", \"S.Def\", \"Spd\"])\n",
        "    #df = df.set_index('Nat ID')\n",
        "    return df"
      ],
      "execution_count": 0,
      "outputs": []
    },
    {
      "cell_type": "code",
      "metadata": {
        "id": "s4C52XPYBz4E",
        "colab_type": "code",
        "colab": {}
      },
      "source": [
        "#scrape website\n",
        "poke_dat = get_Pokemon(\"https://serebii.net/pokemon/all.shtml\")"
      ],
      "execution_count": 0,
      "outputs": []
    },
    {
      "cell_type": "markdown",
      "metadata": {
        "id": "kQrR2AmCX9dM",
        "colab_type": "text"
      },
      "source": [
        "Unfortunately, Serebii didn't have an available list of  legendaries. No need to panic, however, as we can make our own column corresponding to whether a Pokemon is legendary."
      ]
    },
    {
      "cell_type": "code",
      "metadata": {
        "id": "jdU8ovWPSAG-",
        "colab_type": "code",
        "outputId": "fd36ae70-dbb2-4836-eddc-cb8a1b3db64d",
        "colab": {
          "base_uri": "https://localhost:8080/",
          "height": 204
        }
      },
      "source": [
        "#add legendaries column\n",
        "legendaries = {\"Articuno\", \"Zapdos\", \"Moltres\", \"Mewtwo\", \"Mew\", \"Raikou\", \"Entei\", \n",
        "               \"Suicune\", \"Lugia\", \"Ho-Oh\", \"Celebi\", \"Regirock\", \"Regice\", \"Registeel\",\n",
        "               \"Latias\", \"Latios\", \"Kyogre\", \"Groudon\", \"Rayquaza\", \"Jirachi\", \"Deoxys\",\n",
        "               \"Uxie\", \"Mesprit\", \"Azelf\", \"Dialga\", \"Palkia\", \"Heatran\", \"Regigigas\", \n",
        "               \"Giratina\", \"Cresselia\", \"Phione\", \"Manaphy\", \"Darkrai\", \"Shaymin\", \n",
        "               \"Arceus\", \"Victini\", \"Cobalion\", \"Terrakion\", \"Virizion\", \"Tornadus\",\n",
        "               \"Thundurus\", \"Reshiram\", \"Zekrom\", \"Landorus\", \"Kyurem\", \"Keldeo\",\n",
        "               \"Meloetta\", \"Genesect\", \"Xerneas\", \"Yveltal\", \"Zygarde\", \"Diancie\",\n",
        "               \"Hoopa\", \"Volcanion\", \"Type: Null\", \"Silvally\", \"Tapu Koko\", \"Tapu Lele\",\n",
        "               \"Tapu Bulu\", \"Tapu Fini\", \"Cosmog\", \"Cosmoem\", \"Solgaleo\", \"Lunala\", \n",
        "               \"Necrozma\", \"Magearna\", \"Marshadow\", \"Zeraora\", \"Meltan\", \"Melmetal\",\n",
        "               \"Zacian\", \"Zamazenta\", \"Eternatus\"}\n",
        "is_legend = [float(name in legendaries) for name in poke_dat[\"Name\"]]\n",
        "\n",
        "poke_dat[\"Legend\"]  = is_legend\n",
        "poke_dat.head(5)"
      ],
      "execution_count": 122,
      "outputs": [
        {
          "output_type": "execute_result",
          "data": {
            "text/html": [
              "<div>\n",
              "<style scoped>\n",
              "    .dataframe tbody tr th:only-of-type {\n",
              "        vertical-align: middle;\n",
              "    }\n",
              "\n",
              "    .dataframe tbody tr th {\n",
              "        vertical-align: top;\n",
              "    }\n",
              "\n",
              "    .dataframe thead th {\n",
              "        text-align: right;\n",
              "    }\n",
              "</style>\n",
              "<table border=\"1\" class=\"dataframe\">\n",
              "  <thead>\n",
              "    <tr style=\"text-align: right;\">\n",
              "      <th></th>\n",
              "      <th>Name</th>\n",
              "      <th>Type</th>\n",
              "      <th>HP</th>\n",
              "      <th>Att</th>\n",
              "      <th>Def</th>\n",
              "      <th>S.Att</th>\n",
              "      <th>S.Def</th>\n",
              "      <th>Spd</th>\n",
              "      <th>Legend</th>\n",
              "    </tr>\n",
              "  </thead>\n",
              "  <tbody>\n",
              "    <tr>\n",
              "      <th>0</th>\n",
              "      <td>Bulbasaur</td>\n",
              "      <td>[GRASS, POISON]</td>\n",
              "      <td>45.0</td>\n",
              "      <td>49.0</td>\n",
              "      <td>49.0</td>\n",
              "      <td>65.0</td>\n",
              "      <td>65.0</td>\n",
              "      <td>45.0</td>\n",
              "      <td>0.0</td>\n",
              "    </tr>\n",
              "    <tr>\n",
              "      <th>1</th>\n",
              "      <td>Ivysaur</td>\n",
              "      <td>[GRASS, POISON]</td>\n",
              "      <td>60.0</td>\n",
              "      <td>62.0</td>\n",
              "      <td>63.0</td>\n",
              "      <td>80.0</td>\n",
              "      <td>80.0</td>\n",
              "      <td>60.0</td>\n",
              "      <td>0.0</td>\n",
              "    </tr>\n",
              "    <tr>\n",
              "      <th>2</th>\n",
              "      <td>Venusaur</td>\n",
              "      <td>[GRASS, POISON]</td>\n",
              "      <td>80.0</td>\n",
              "      <td>82.0</td>\n",
              "      <td>83.0</td>\n",
              "      <td>100.0</td>\n",
              "      <td>100.0</td>\n",
              "      <td>80.0</td>\n",
              "      <td>0.0</td>\n",
              "    </tr>\n",
              "    <tr>\n",
              "      <th>3</th>\n",
              "      <td>Charmander</td>\n",
              "      <td>[FIRE]</td>\n",
              "      <td>39.0</td>\n",
              "      <td>52.0</td>\n",
              "      <td>43.0</td>\n",
              "      <td>60.0</td>\n",
              "      <td>50.0</td>\n",
              "      <td>65.0</td>\n",
              "      <td>0.0</td>\n",
              "    </tr>\n",
              "    <tr>\n",
              "      <th>4</th>\n",
              "      <td>Charmeleon</td>\n",
              "      <td>[FIRE]</td>\n",
              "      <td>58.0</td>\n",
              "      <td>64.0</td>\n",
              "      <td>58.0</td>\n",
              "      <td>80.0</td>\n",
              "      <td>65.0</td>\n",
              "      <td>80.0</td>\n",
              "      <td>0.0</td>\n",
              "    </tr>\n",
              "  </tbody>\n",
              "</table>\n",
              "</div>"
            ],
            "text/plain": [
              "         Name             Type    HP   Att   Def  S.Att  S.Def   Spd  Legend\n",
              "0   Bulbasaur  [GRASS, POISON]  45.0  49.0  49.0   65.0   65.0  45.0     0.0\n",
              "1     Ivysaur  [GRASS, POISON]  60.0  62.0  63.0   80.0   80.0  60.0     0.0\n",
              "2    Venusaur  [GRASS, POISON]  80.0  82.0  83.0  100.0  100.0  80.0     0.0\n",
              "3  Charmander           [FIRE]  39.0  52.0  43.0   60.0   50.0  65.0     0.0\n",
              "4  Charmeleon           [FIRE]  58.0  64.0  58.0   80.0   65.0  80.0     0.0"
            ]
          },
          "metadata": {
            "tags": []
          },
          "execution_count": 122
        }
      ]
    },
    {
      "cell_type": "markdown",
      "metadata": {
        "id": "R7FY_zCAfQ9W",
        "colab_type": "text"
      },
      "source": [
        "In the table, $Name$ corresponds to the pokemons name, $Type$ corresponds to the type (similar to a tribe) that a Pokemon belongs to (a Pokemon can have 1 or 2 types),$HP$ corresponds to hp, $Att$ corresponds to attack, $Def$ corresponds to defense, $S. Att$ corresponds to special attack, $S.Def$ corresponds to special defense, and $Spd$ corresponds to speed. We continue with Exploratory Data Analysis."
      ]
    },
    {
      "cell_type": "markdown",
      "metadata": {
        "id": "w52JKO2H3cGD",
        "colab_type": "text"
      },
      "source": [
        "#Exploratory Data Analysis\n",
        "Let's observe what we can about the known Pokemon universe. First, we will find the overal mean of individual stats of both legendary and non-lengendary Pokemon."
      ]
    },
    {
      "cell_type": "code",
      "metadata": {
        "id": "JKbuInEwU7qu",
        "colab_type": "code",
        "outputId": "5f9b3cbe-7a4e-4c35-849a-2fac9c0f8dfe",
        "colab": {
          "base_uri": "https://localhost:8080/",
          "height": 255
        }
      },
      "source": [
        "#get means of pokemon inidividual Pokemon stats\n",
        "legs = poke_dat[poke_dat[\"Legend\"] == 1.0]\n",
        "non_legs = poke_dat[poke_dat[\"Legend\"] == 0.0]\n",
        "\n",
        "print(legs.iloc[:,2:-1].mean(axis = 0))\n",
        "print(non_legs.iloc[:,2:-1].mean(axis = 0))"
      ],
      "execution_count": 123,
      "outputs": [
        {
          "output_type": "stream",
          "text": [
            "HP        92.821918\n",
            "Att      103.972603\n",
            "Def       99.958904\n",
            "S.Att    107.438356\n",
            "S.Def    102.821918\n",
            "Spd       93.863014\n",
            "dtype: float64\n",
            "HP       66.547124\n",
            "Att      73.827417\n",
            "Def      69.304774\n",
            "S.Att    66.162791\n",
            "S.Def    66.913097\n",
            "Spd      63.137087\n",
            "dtype: float64\n"
          ],
          "name": "stdout"
        }
      ]
    },
    {
      "cell_type": "markdown",
      "metadata": {
        "id": "Uta4A40OeAST",
        "colab_type": "text"
      },
      "source": [
        "As we can see, the average stats of a legendary Pokemon are higher than those of a non-legendary. We found that legendary Pokemon tend to have higher stats across the board with an average hp of 92.82, an average attack of 103.97, an average defense of 99.96, an average special attack of 107.44, and average special defense of 102.82, and an average speed of 93.86. This is contrary to the stats of the non-legendary Pokemon, whose average hp is 66.55, attack is 73.83, defense is 69.30, special attack is 66.16, special defense is 66.91, and speed is 63.14. Let's take a look into the distribution of the different types that Pokemon from both data sets belong to. \n"
      ]
    },
    {
      "cell_type": "code",
      "metadata": {
        "id": "vJvuLiALjoHW",
        "colab_type": "code",
        "outputId": "0f598496-f685-4e13-cac8-2b6c84948674",
        "colab": {
          "base_uri": "https://localhost:8080/",
          "height": 679
        }
      },
      "source": [
        "#get chart for type distribution of Legendary Pokemon\n",
        "leg_ts = []\n",
        "for mon in legs[\"Type\"]:\n",
        "    for t in mon:\n",
        "        leg_ts.append(t)\n",
        "\n",
        "leg_tdf = pd.DataFrame(leg_ts, columns = [\"Ts\"])\n",
        "(ggplot(leg_tdf) + geom_bar(aes(x = \"Ts\", fill = \"Ts\")) + \n",
        " theme(axis_text_x=element_text(rotation=90)))\n",
        "    "
      ],
      "execution_count": 124,
      "outputs": [
        {
          "output_type": "stream",
          "text": [
            "/usr/local/lib/python3.6/dist-packages/plotnine/scales/scale.py:93: MatplotlibDeprecationWarning: \n",
            "The iterable function was deprecated in Matplotlib 3.1 and will be removed in 3.3. Use np.iterable instead.\n",
            "  if cbook.iterable(self.breaks) and cbook.iterable(self.labels):\n",
            "/usr/local/lib/python3.6/dist-packages/plotnine/utils.py:553: MatplotlibDeprecationWarning: \n",
            "The iterable function was deprecated in Matplotlib 3.1 and will be removed in 3.3. Use np.iterable instead.\n",
            "  return cbook.iterable(var) and not is_string(var)\n"
          ],
          "name": "stderr"
        },
        {
          "output_type": "display_data",
          "data": {
            "image/png": "[encoded data removed]",
            "text/plain": [
              "<Figure size 640x480 with 1 Axes>"
            ]
          },
          "metadata": {
            "tags": []
          }
        },
        {
          "output_type": "execute_result",
          "data": {
            "text/plain": [
              "<ggplot: (-9223363267200341111)>"
            ]
          },
          "metadata": {
            "tags": []
          },
          "execution_count": 124
        }
      ]
    },
    {
      "cell_type": "markdown",
      "metadata": {
        "id": "AhcUAmcph1f5",
        "colab_type": "text"
      },
      "source": [
        "There appears to be a large proportion of psychic type Pokemon in the legngendary set, with only one bug, and one poison type. The distribution does not appear to be uniform in any manner.  "
      ]
    },
    {
      "cell_type": "code",
      "metadata": {
        "id": "Nn83m_VaoE_Q",
        "colab_type": "code",
        "outputId": "821579e2-0ecc-490e-a4be-32a70c317f4b",
        "colab": {
          "base_uri": "https://localhost:8080/",
          "height": 679
        }
      },
      "source": [
        "#get chart for type distribution of Non-legendary Pokemon\n",
        "nleg_ts = []\n",
        "for mon in non_legs[\"Type\"]:\n",
        "    for t in mon:\n",
        "        nleg_ts.append(t)\n",
        "\n",
        "nleg_tdf = pd.DataFrame(nleg_ts, columns = [\"Ts\"])\n",
        "(ggplot(nleg_tdf) + geom_bar(aes(x = \"Ts\", fill = \"Ts\")) + \n",
        " theme(axis_text_x=element_text(rotation=90)))"
      ],
      "execution_count": 125,
      "outputs": [
        {
          "output_type": "stream",
          "text": [
            "/usr/local/lib/python3.6/dist-packages/plotnine/scales/scale.py:93: MatplotlibDeprecationWarning: \n",
            "The iterable function was deprecated in Matplotlib 3.1 and will be removed in 3.3. Use np.iterable instead.\n",
            "  if cbook.iterable(self.breaks) and cbook.iterable(self.labels):\n",
            "/usr/local/lib/python3.6/dist-packages/plotnine/utils.py:553: MatplotlibDeprecationWarning: \n",
            "The iterable function was deprecated in Matplotlib 3.1 and will be removed in 3.3. Use np.iterable instead.\n",
            "  return cbook.iterable(var) and not is_string(var)\n"
          ],
          "name": "stderr"
        },
        {
          "output_type": "display_data",
          "data": {
            "image/png": "[encoded data removed]",
            "text/plain": [
              "<Figure size 640x480 with 1 Axes>"
            ]
          },
          "metadata": {
            "tags": []
          }
        },
        {
          "output_type": "execute_result",
          "data": {
            "text/plain": [
              "<ggplot: (-9223363267209875298)>"
            ]
          },
          "metadata": {
            "tags": []
          },
          "execution_count": 125
        }
      ]
    },
    {
      "cell_type": "markdown",
      "metadata": {
        "id": "RW5g7rKeiq0a",
        "colab_type": "text"
      },
      "source": [
        "The type distribution for the the non-legendary Pokemon appears to be relatively more uniform, with many more water, bug, and normal type Pokemon. However, due to the fact that Pokemon have variable numbers of Types, the Type feature has been removed from both of our models."
      ]
    },
    {
      "cell_type": "markdown",
      "metadata": {
        "id": "x68dogWMpTJZ",
        "colab_type": "text"
      },
      "source": [
        "Now that we have looked into the type distribution of Pokemon, let's continue with multivariate analysis. We start by plotting the correlations between the predictors, and then plotting the response vs two variables with high correlation. "
      ]
    },
    {
      "cell_type": "code",
      "metadata": {
        "id": "mKaxyNHXpxbw",
        "colab_type": "code",
        "outputId": "92c78f1b-233e-4e7f-8f98-db8ec0fc905d",
        "colab": {
          "base_uri": "https://localhost:8080/",
          "height": 166
        }
      },
      "source": [
        "corr = poke_dat.iloc[:,:-1].corr()\n",
        "corr.style.background_gradient(cmap='coolwarm')"
      ],
      "execution_count": 126,
      "outputs": [
        {
          "output_type": "execute_result",
          "data": {
            "text/html": [
              "<style  type=\"text/css\" >\n",
              "    #T_292825e2_1c85_11ea_b20f_0242ac1c0002row0_col0 {\n",
              "            background-color:  #b40426;\n",
              "            color:  #f1f1f1;\n",
              "        }    #T_292825e2_1c85_11ea_b20f_0242ac1c0002row0_col1 {\n",
              "            background-color:  #a2c1ff;\n",
              "            color:  #000000;\n",
              "        }    #T_292825e2_1c85_11ea_b20f_0242ac1c0002row0_col2 {\n",
              "            background-color:  #94b6ff;\n",
              "            color:  #000000;\n",
              "        }    #T_292825e2_1c85_11ea_b20f_0242ac1c0002row0_col3 {\n",
              "            background-color:  #82a6fb;\n",
              "            color:  #000000;\n",
              "        }    #T_292825e2_1c85_11ea_b20f_0242ac1c0002row0_col4 {\n",
              "            background-color:  #80a3fa;\n",
              "            color:  #000000;\n",
              "        }    #T_292825e2_1c85_11ea_b20f_0242ac1c0002row0_col5 {\n",
              "            background-color:  #7699f6;\n",
              "            color:  #000000;\n",
              "        }    #T_292825e2_1c85_11ea_b20f_0242ac1c0002row1_col0 {\n",
              "            background-color:  #abc8fd;\n",
              "            color:  #000000;\n",
              "        }    #T_292825e2_1c85_11ea_b20f_0242ac1c0002row1_col1 {\n",
              "            background-color:  #b40426;\n",
              "            color:  #f1f1f1;\n",
              "        }    #T_292825e2_1c85_11ea_b20f_0242ac1c0002row1_col2 {\n",
              "            background-color:  #d2dbe8;\n",
              "            color:  #000000;\n",
              "        }    #T_292825e2_1c85_11ea_b20f_0242ac1c0002row1_col3 {\n",
              "            background-color:  #6b8df0;\n",
              "            color:  #000000;\n",
              "        }    #T_292825e2_1c85_11ea_b20f_0242ac1c0002row1_col4 {\n",
              "            background-color:  #3d50c3;\n",
              "            color:  #f1f1f1;\n",
              "        }    #T_292825e2_1c85_11ea_b20f_0242ac1c0002row1_col5 {\n",
              "            background-color:  #afcafc;\n",
              "            color:  #000000;\n",
              "        }    #T_292825e2_1c85_11ea_b20f_0242ac1c0002row2_col0 {\n",
              "            background-color:  #5a78e4;\n",
              "            color:  #000000;\n",
              "        }    #T_292825e2_1c85_11ea_b20f_0242ac1c0002row2_col1 {\n",
              "            background-color:  #a1c0ff;\n",
              "            color:  #000000;\n",
              "        }    #T_292825e2_1c85_11ea_b20f_0242ac1c0002row2_col2 {\n",
              "            background-color:  #b40426;\n",
              "            color:  #f1f1f1;\n",
              "        }    #T_292825e2_1c85_11ea_b20f_0242ac1c0002row2_col3 {\n",
              "            background-color:  #3b4cc0;\n",
              "            color:  #f1f1f1;\n",
              "        }    #T_292825e2_1c85_11ea_b20f_0242ac1c0002row2_col4 {\n",
              "            background-color:  #bad0f8;\n",
              "            color:  #000000;\n",
              "        }    #T_292825e2_1c85_11ea_b20f_0242ac1c0002row2_col5 {\n",
              "            background-color:  #3b4cc0;\n",
              "            color:  #f1f1f1;\n",
              "        }    #T_292825e2_1c85_11ea_b20f_0242ac1c0002row3_col0 {\n",
              "            background-color:  #89acfd;\n",
              "            color:  #000000;\n",
              "        }    #T_292825e2_1c85_11ea_b20f_0242ac1c0002row3_col1 {\n",
              "            background-color:  #6788ee;\n",
              "            color:  #000000;\n",
              "        }    #T_292825e2_1c85_11ea_b20f_0242ac1c0002row3_col2 {\n",
              "            background-color:  #7ea1fa;\n",
              "            color:  #000000;\n",
              "        }    #T_292825e2_1c85_11ea_b20f_0242ac1c0002row3_col3 {\n",
              "            background-color:  #b40426;\n",
              "            color:  #f1f1f1;\n",
              "        }    #T_292825e2_1c85_11ea_b20f_0242ac1c0002row3_col4 {\n",
              "            background-color:  #b6cefa;\n",
              "            color:  #000000;\n",
              "        }    #T_292825e2_1c85_11ea_b20f_0242ac1c0002row3_col5 {\n",
              "            background-color:  #cad8ef;\n",
              "            color:  #000000;\n",
              "        }    #T_292825e2_1c85_11ea_b20f_0242ac1c0002row4_col0 {\n",
              "            background-color:  #86a9fc;\n",
              "            color:  #000000;\n",
              "        }    #T_292825e2_1c85_11ea_b20f_0242ac1c0002row4_col1 {\n",
              "            background-color:  #3b4cc0;\n",
              "            color:  #f1f1f1;\n",
              "        }    #T_292825e2_1c85_11ea_b20f_0242ac1c0002row4_col2 {\n",
              "            background-color:  #dfdbd9;\n",
              "            color:  #000000;\n",
              "        }    #T_292825e2_1c85_11ea_b20f_0242ac1c0002row4_col3 {\n",
              "            background-color:  #b6cefa;\n",
              "            color:  #000000;\n",
              "        }    #T_292825e2_1c85_11ea_b20f_0242ac1c0002row4_col4 {\n",
              "            background-color:  #b40426;\n",
              "            color:  #f1f1f1;\n",
              "        }    #T_292825e2_1c85_11ea_b20f_0242ac1c0002row4_col5 {\n",
              "            background-color:  #80a3fa;\n",
              "            color:  #000000;\n",
              "        }    #T_292825e2_1c85_11ea_b20f_0242ac1c0002row5_col0 {\n",
              "            background-color:  #3b4cc0;\n",
              "            color:  #f1f1f1;\n",
              "        }    #T_292825e2_1c85_11ea_b20f_0242ac1c0002row5_col1 {\n",
              "            background-color:  #6f92f3;\n",
              "            color:  #000000;\n",
              "        }    #T_292825e2_1c85_11ea_b20f_0242ac1c0002row5_col2 {\n",
              "            background-color:  #3b4cc0;\n",
              "            color:  #f1f1f1;\n",
              "        }    #T_292825e2_1c85_11ea_b20f_0242ac1c0002row5_col3 {\n",
              "            background-color:  #98b9ff;\n",
              "            color:  #000000;\n",
              "        }    #T_292825e2_1c85_11ea_b20f_0242ac1c0002row5_col4 {\n",
              "            background-color:  #3b4cc0;\n",
              "            color:  #f1f1f1;\n",
              "        }    #T_292825e2_1c85_11ea_b20f_0242ac1c0002row5_col5 {\n",
              "            background-color:  #b40426;\n",
              "            color:  #f1f1f1;\n",
              "        }</style><table id=\"T_292825e2_1c85_11ea_b20f_0242ac1c0002\" ><thead>    <tr>        <th class=\"blank level0\" ></th>        <th class=\"col_heading level0 col0\" >HP</th>        <th class=\"col_heading level0 col1\" >Att</th>        <th class=\"col_heading level0 col2\" >Def</th>        <th class=\"col_heading level0 col3\" >S.Att</th>        <th class=\"col_heading level0 col4\" >S.Def</th>        <th class=\"col_heading level0 col5\" >Spd</th>    </tr></thead><tbody>\n",
              "                <tr>\n",
              "                        <th id=\"T_292825e2_1c85_11ea_b20f_0242ac1c0002level0_row0\" class=\"row_heading level0 row0\" >HP</th>\n",
              "                        <td id=\"T_292825e2_1c85_11ea_b20f_0242ac1c0002row0_col0\" class=\"data row0 col0\" >1</td>\n",
              "                        <td id=\"T_292825e2_1c85_11ea_b20f_0242ac1c0002row0_col1\" class=\"data row0 col1\" >0.456692</td>\n",
              "                        <td id=\"T_292825e2_1c85_11ea_b20f_0242ac1c0002row0_col2\" class=\"data row0 col2\" >0.264193</td>\n",
              "                        <td id=\"T_292825e2_1c85_11ea_b20f_0242ac1c0002row0_col3\" class=\"data row0 col3\" >0.377155</td>\n",
              "                        <td id=\"T_292825e2_1c85_11ea_b20f_0242ac1c0002row0_col4\" class=\"data row0 col4\" >0.371107</td>\n",
              "                        <td id=\"T_292825e2_1c85_11ea_b20f_0242ac1c0002row0_col5\" class=\"data row0 col5\" >0.178609</td>\n",
              "            </tr>\n",
              "            <tr>\n",
              "                        <th id=\"T_292825e2_1c85_11ea_b20f_0242ac1c0002level0_row1\" class=\"row_heading level0 row1\" >Att</th>\n",
              "                        <td id=\"T_292825e2_1c85_11ea_b20f_0242ac1c0002row1_col0\" class=\"data row1 col0\" >0.456692</td>\n",
              "                        <td id=\"T_292825e2_1c85_11ea_b20f_0242ac1c0002row1_col1\" class=\"data row1 col1\" >1</td>\n",
              "                        <td id=\"T_292825e2_1c85_11ea_b20f_0242ac1c0002row1_col2\" class=\"data row1 col2\" >0.452702</td>\n",
              "                        <td id=\"T_292825e2_1c85_11ea_b20f_0242ac1c0002row1_col3\" class=\"data row1 col3\" >0.323867</td>\n",
              "                        <td id=\"T_292825e2_1c85_11ea_b20f_0242ac1c0002row1_col4\" class=\"data row1 col4\" >0.21132</td>\n",
              "                        <td id=\"T_292825e2_1c85_11ea_b20f_0242ac1c0002row1_col5\" class=\"data row1 col5\" >0.340767</td>\n",
              "            </tr>\n",
              "            <tr>\n",
              "                        <th id=\"T_292825e2_1c85_11ea_b20f_0242ac1c0002level0_row2\" class=\"row_heading level0 row2\" >Def</th>\n",
              "                        <td id=\"T_292825e2_1c85_11ea_b20f_0242ac1c0002row2_col0\" class=\"data row2 col0\" >0.264193</td>\n",
              "                        <td id=\"T_292825e2_1c85_11ea_b20f_0242ac1c0002row2_col1\" class=\"data row2 col1\" >0.452702</td>\n",
              "                        <td id=\"T_292825e2_1c85_11ea_b20f_0242ac1c0002row2_col2\" class=\"data row2 col2\" >1</td>\n",
              "                        <td id=\"T_292825e2_1c85_11ea_b20f_0242ac1c0002row2_col3\" class=\"data row2 col3\" >0.200785</td>\n",
              "                        <td id=\"T_292825e2_1c85_11ea_b20f_0242ac1c0002row2_col4\" class=\"data row2 col4\" >0.505404</td>\n",
              "                        <td id=\"T_292825e2_1c85_11ea_b20f_0242ac1c0002row2_col5\" class=\"data row2 col5\" >-0.0106448</td>\n",
              "            </tr>\n",
              "            <tr>\n",
              "                        <th id=\"T_292825e2_1c85_11ea_b20f_0242ac1c0002level0_row3\" class=\"row_heading level0 row3\" >S.Att</th>\n",
              "                        <td id=\"T_292825e2_1c85_11ea_b20f_0242ac1c0002row3_col0\" class=\"data row3 col0\" >0.377155</td>\n",
              "                        <td id=\"T_292825e2_1c85_11ea_b20f_0242ac1c0002row3_col1\" class=\"data row3 col1\" >0.323867</td>\n",
              "                        <td id=\"T_292825e2_1c85_11ea_b20f_0242ac1c0002row3_col2\" class=\"data row3 col2\" >0.200785</td>\n",
              "                        <td id=\"T_292825e2_1c85_11ea_b20f_0242ac1c0002row3_col3\" class=\"data row3 col3\" >1</td>\n",
              "                        <td id=\"T_292825e2_1c85_11ea_b20f_0242ac1c0002row3_col4\" class=\"data row3 col4\" >0.496045</td>\n",
              "                        <td id=\"T_292825e2_1c85_11ea_b20f_0242ac1c0002row3_col5\" class=\"data row3 col5\" >0.426175</td>\n",
              "            </tr>\n",
              "            <tr>\n",
              "                        <th id=\"T_292825e2_1c85_11ea_b20f_0242ac1c0002level0_row4\" class=\"row_heading level0 row4\" >S.Def</th>\n",
              "                        <td id=\"T_292825e2_1c85_11ea_b20f_0242ac1c0002row4_col0\" class=\"data row4 col0\" >0.371107</td>\n",
              "                        <td id=\"T_292825e2_1c85_11ea_b20f_0242ac1c0002row4_col1\" class=\"data row4 col1\" >0.21132</td>\n",
              "                        <td id=\"T_292825e2_1c85_11ea_b20f_0242ac1c0002row4_col2\" class=\"data row4 col2\" >0.505404</td>\n",
              "                        <td id=\"T_292825e2_1c85_11ea_b20f_0242ac1c0002row4_col3\" class=\"data row4 col3\" >0.496045</td>\n",
              "                        <td id=\"T_292825e2_1c85_11ea_b20f_0242ac1c0002row4_col4\" class=\"data row4 col4\" >1</td>\n",
              "                        <td id=\"T_292825e2_1c85_11ea_b20f_0242ac1c0002row4_col5\" class=\"data row4 col5\" >0.202613</td>\n",
              "            </tr>\n",
              "            <tr>\n",
              "                        <th id=\"T_292825e2_1c85_11ea_b20f_0242ac1c0002level0_row5\" class=\"row_heading level0 row5\" >Spd</th>\n",
              "                        <td id=\"T_292825e2_1c85_11ea_b20f_0242ac1c0002row5_col0\" class=\"data row5 col0\" >0.178609</td>\n",
              "                        <td id=\"T_292825e2_1c85_11ea_b20f_0242ac1c0002row5_col1\" class=\"data row5 col1\" >0.340767</td>\n",
              "                        <td id=\"T_292825e2_1c85_11ea_b20f_0242ac1c0002row5_col2\" class=\"data row5 col2\" >-0.0106448</td>\n",
              "                        <td id=\"T_292825e2_1c85_11ea_b20f_0242ac1c0002row5_col3\" class=\"data row5 col3\" >0.426175</td>\n",
              "                        <td id=\"T_292825e2_1c85_11ea_b20f_0242ac1c0002row5_col4\" class=\"data row5 col4\" >0.202613</td>\n",
              "                        <td id=\"T_292825e2_1c85_11ea_b20f_0242ac1c0002row5_col5\" class=\"data row5 col5\" >1</td>\n",
              "            </tr>\n",
              "    </tbody></table>"
            ],
            "text/plain": [
              "<pandas.io.formats.style.Styler at 0x7f9d79f86710>"
            ]
          },
          "metadata": {
            "tags": []
          },
          "execution_count": 126
        }
      ]
    },
    {
      "cell_type": "markdown",
      "metadata": {
        "id": "0k38gupBjNk8",
        "colab_type": "text"
      },
      "source": [
        "It is surprising to see relatively low correlation between the stats. We will vizualize the data on a scatter plot of special defense vs defense, colored by a Pokemons Legendary status."
      ]
    },
    {
      "cell_type": "code",
      "metadata": {
        "id": "ShJbjEOTsqGP",
        "colab_type": "code",
        "outputId": "904d8743-4204-4be7-d41c-2c53cf46ab1b",
        "colab": {
          "base_uri": "https://localhost:8080/",
          "height": 566
        }
      },
      "source": [
        "(ggplot(poke_dat) + geom_point(aes(x = \"S.Def\", y = \"Def\", color = \"Legend\")))"
      ],
      "execution_count": 127,
      "outputs": [
        {
          "output_type": "stream",
          "text": [
            "/usr/local/lib/python3.6/dist-packages/plotnine/scales/scale.py:93: MatplotlibDeprecationWarning: \n",
            "The iterable function was deprecated in Matplotlib 3.1 and will be removed in 3.3. Use np.iterable instead.\n",
            "  if cbook.iterable(self.breaks) and cbook.iterable(self.labels):\n",
            "/usr/local/lib/python3.6/dist-packages/plotnine/utils.py:553: MatplotlibDeprecationWarning: \n",
            "The iterable function was deprecated in Matplotlib 3.1 and will be removed in 3.3. Use np.iterable instead.\n",
            "  return cbook.iterable(var) and not is_string(var)\n"
          ],
          "name": "stderr"
        },
        {
          "output_type": "display_data",
          "data": {
            "image/png": "[encoded data removed]",
            "text/plain": [
              "<Figure size 640x480 with 1 Axes>"
            ]
          },
          "metadata": {
            "tags": []
          }
        },
        {
          "output_type": "execute_result",
          "data": {
            "text/plain": [
              "<ggplot: (-9223363267209040675)>"
            ]
          },
          "metadata": {
            "tags": []
          },
          "execution_count": 127
        }
      ]
    },
    {
      "cell_type": "markdown",
      "metadata": {
        "id": "fMDOm5_Zjyrq",
        "colab_type": "text"
      },
      "source": [
        "Although this is a 2D representation of the data, it would appear as though the legendaries do not for a clear cluster appart from the non-legendaries, despite the large difference in stats. We want to further investigate the relationship between base stats of Pokemon and their legendary status by initially testing a Support Vector Machine model. \n",
        "\n",
        "#Inital Model: SVM\n",
        "We want to gain more intuition on the data by first testing a preliminary SVM model. We hypothesis that due to the fact that the data set is small, the results of the SVM may be misleading. \n",
        "For more information on the SVM Model and its differnt kernels, please visit: https://medium.com/machine-learning-101/chapter-2-svm-support-vector-machine-theory-f0812effc72.\n",
        "\n",
        "The code for the SVM is as follows. "
      ]
    },
    {
      "cell_type": "code",
      "metadata": {
        "id": "H8uOcfbEmGX4",
        "colab_type": "code",
        "outputId": "077eb826-f250-4fb6-8e06-81e5964fc4a7",
        "colab": {
          "base_uri": "https://localhost:8080/",
          "height": 34
        }
      },
      "source": [
        "from sklearn.model_selection import train_test_split\n",
        "from sklearn.svm import SVC\n",
        "\n",
        "#get features and labels\n",
        "X = poke_dat.drop([\"Name\", \"Type\",\"Legend\"], axis=1)\n",
        "y = poke_dat['Legend']\n",
        "\n",
        "#get train, test data\n",
        "X_train, X_test, y_train, y_test = train_test_split(X, y, test_size = 0.10)\n",
        "\n",
        "#fit SVM and predict                               \n",
        "sv = SVC(kernel='linear')\n",
        "sv.fit(X_train, y_train)\n",
        "\n",
        "y_pred = sv.predict(X_test)\n",
        "\n",
        "#print accuracy\n",
        "print(sum(y_pred == y_test)/len(y_pred))\n",
        "\n"
      ],
      "execution_count": 128,
      "outputs": [
        {
          "output_type": "stream",
          "text": [
            "0.9662921348314607\n"
          ],
          "name": "stdout"
        }
      ]
    },
    {
      "cell_type": "markdown",
      "metadata": {
        "id": "ZKs52uUQnK-B",
        "colab_type": "text"
      },
      "source": [
        "Wow no way! A simple SVM model got us 90% accuracy? There must be something wrong with our current approach. This was an error that we had also made at the time of video submission. Let's consider another metric: let's count the number of legendaries that the SVM predicted correctly/ number of legendaries. "
      ]
    },
    {
      "cell_type": "code",
      "metadata": {
        "id": "hbYBd0_JoN2I",
        "colab_type": "code",
        "outputId": "d4d3d50c-1101-4f18-993e-7495dcabe92b",
        "colab": {
          "base_uri": "https://localhost:8080/",
          "height": 34
        }
      },
      "source": [
        "mislab = []\n",
        "\n",
        "for i in range(len(y_pred)):\n",
        "    if (y_test.iloc[i] == 1and y_pred[i] == 1):\n",
        "        mislab.append(1.0)\n",
        "    else:\n",
        "        mislab.append(0.0) \n",
        "print(sum(mislab)/sum(y_pred))\n",
        "\n"
      ],
      "execution_count": 129,
      "outputs": [
        {
          "output_type": "stream",
          "text": [
            "0.8333333333333334\n"
          ],
          "name": "stdout"
        }
      ]
    },
    {
      "cell_type": "markdown",
      "metadata": {
        "id": "ljnTJD4ppZFL",
        "colab_type": "text"
      },
      "source": [
        "Now that we see that the predictor labels only 75% of the data as legendary, why is this the case? Thinking back to the data set, only 8% of the data was legendary. This means that the predictor was better at determining whether a pokemon is non-legendary by simply picking non-legendary most of the time. We will pursue a different model: a K-means model with gradient boosting. We choose this model based on our hypothesis that legendaries can be clustered away from non-legendaries based on their base stats using an unsupervised learning technique. \n",
        "\n",
        "#K-means Clustering with Gradient Boosting\n",
        "\n",
        "Our goal with the K-means clustering is to cluster the Pokemon into the two groups. The number of clusters selected is based on manually iterating through values from 0 to 10 and taking the value of k with the highest score. Below is the code for the clustering."
      ]
    },
    {
      "cell_type": "code",
      "metadata": {
        "id": "0Emc4fL_iY80",
        "colab_type": "code",
        "outputId": "261f7f5c-4200-465e-fa6e-a52f288fa274",
        "colab": {
          "base_uri": "https://localhost:8080/",
          "height": 51
        }
      },
      "source": [
        "# CODE FOR RUNNING THE CLUSTERING ON THE DATA\n",
        "from sklearn.cluster import KMeans\n",
        "from sklearn.ensemble import GradientBoostingClassifier as GB\n",
        "from collections import Counter\n",
        "cluster_points = poke_dat.reset_index().values[:,3:len(poke_dat.columns)-2]\n",
        "#print(cluster_points)\n",
        "poke_clust = KMeans(n_clusters = 9).fit(cluster_points)\n",
        "sizes = Counter(poke_clust.labels_)\n",
        "legend_labels = []\n",
        "for i in range(len(is_legend)):\n",
        "  if is_legend[i] == 1.0:\n",
        "    legend_labels.append(poke_clust.labels_[i])\n",
        "legend_sizes = Counter(legend_labels)\n",
        "print(\"sizes\", sizes)\n",
        "print(\"legend_sizes\", legend_sizes)\n",
        "#print(\"legend percent\", len(legendaries)/poke_dat.count())\n",
        "#print(\"legends\", len(legendaries))\n",
        "#print(\"total\", poke_dat.count)"
      ],
      "execution_count": 136,
      "outputs": [
        {
          "output_type": "stream",
          "text": [
            "sizes Counter({5: 182, 2: 137, 6: 129, 7: 109, 4: 99, 8: 86, 3: 81, 1: 53, 0: 14})\n",
            "legend_sizes Counter({3: 42, 4: 10, 1: 7, 8: 7, 6: 5, 5: 1, 2: 1})\n"
          ],
          "name": "stdout"
        }
      ]
    },
    {
      "cell_type": "markdown",
      "metadata": {
        "id": "IOoUjLk4nxjJ",
        "colab_type": "text"
      },
      "source": [
        "As we can see from the above code output, the majority of legendary Pokemon can be found in cluster 3, which has 52 + 172 = 224 Pokemon in total. This has increased the number of values in the category we want to predict for from 8 percent to 23 percent! We now want to gradient boost based on the cluster assigned.\n",
        "Let's randomize the data to ensure that there is an even distribution of Pokemon from cluster 1 in both the train and test sections of data."
      ]
    },
    {
      "cell_type": "code",
      "metadata": {
        "id": "tBmB5tmKpZyJ",
        "colab_type": "code",
        "outputId": "9eeda642-562e-4384-b494-56191bf681ed",
        "colab": {
          "base_uri": "https://localhost:8080/",
          "height": 1000
        }
      },
      "source": [
        "# NOTE DATA SPLITTING\n",
        "rows = poke_dat.count()\n",
        "print(\"rows\", rows)\n",
        "test_indices = np.random.choice(890, 178, replace = False)\n",
        "test_set = set(test_indices)\n",
        "train_indices = []\n",
        "for i in range(890):\n",
        "  if i not in test_set:\n",
        "    train_indices.append(i)\n",
        "print(len(cluster_points[test_indices,:]))\n",
        "print(len(cluster_points[train_indices,:]))\n",
        "\n",
        "legend_labels = poke_dat.reset_index().values[:,len(poke_dat.columns)]\n",
        "print(legend_labels)\n",
        "legend_train = []\n",
        "for index in train_indices:\n",
        "  if legend_labels[index] == 1:\n",
        "    legend_train.append(1.0)\n",
        "  else:\n",
        "    legend_train.append(0.0)\n",
        "legend_test = []\n",
        "for index in test_indices:\n",
        "  if legend_labels[index] == 1.0:\n",
        "    legend_test.append(1.0)\n",
        "  else:\n",
        "    legend_test.append(0.0)\n",
        "\n",
        "# NOTE NOW CHECK THE DISTRIBUTION OF VALUES IN TRAIN AND TEST\n",
        "print(Counter(poke_clust.labels_[test_indices]))\n",
        "print(Counter(poke_clust.labels_[train_indices]))\n",
        "#print(legend_test)"
      ],
      "execution_count": 137,
      "outputs": [
        {
          "output_type": "stream",
          "text": [
            "rows Name      890\n",
            "Type      890\n",
            "HP        890\n",
            "Att       890\n",
            "Def       890\n",
            "S.Att     890\n",
            "S.Def     890\n",
            "Spd       890\n",
            "Legend    890\n",
            "dtype: int64\n",
            "178\n",
            "712\n",
            "[0.0 0.0 0.0 0.0 0.0 0.0 0.0 0.0 0.0 0.0 0.0 0.0 0.0 0.0 0.0 0.0 0.0 0.0\n",
            " 0.0 0.0 0.0 0.0 0.0 0.0 0.0 0.0 0.0 0.0 0.0 0.0 0.0 0.0 0.0 0.0 0.0 0.0\n",
            " 0.0 0.0 0.0 0.0 0.0 0.0 0.0 0.0 0.0 0.0 0.0 0.0 0.0 0.0 0.0 0.0 0.0 0.0\n",
            " 0.0 0.0 0.0 0.0 0.0 0.0 0.0 0.0 0.0 0.0 0.0 0.0 0.0 0.0 0.0 0.0 0.0 0.0\n",
            " 0.0 0.0 0.0 0.0 0.0 0.0 0.0 0.0 0.0 0.0 0.0 0.0 0.0 0.0 0.0 0.0 0.0 0.0\n",
            " 0.0 0.0 0.0 0.0 0.0 0.0 0.0 0.0 0.0 0.0 0.0 0.0 0.0 0.0 0.0 0.0 0.0 0.0\n",
            " 0.0 0.0 0.0 0.0 0.0 0.0 0.0 0.0 0.0 0.0 0.0 0.0 0.0 0.0 0.0 0.0 0.0 0.0\n",
            " 0.0 0.0 0.0 0.0 0.0 0.0 0.0 0.0 0.0 0.0 0.0 0.0 0.0 0.0 0.0 0.0 0.0 1.0\n",
            " 1.0 1.0 0.0 0.0 0.0 1.0 1.0 0.0 0.0 0.0 0.0 0.0 0.0 0.0 0.0 0.0 0.0 0.0\n",
            " 0.0 0.0 0.0 0.0 0.0 0.0 0.0 0.0 0.0 0.0 0.0 0.0 0.0 0.0 0.0 0.0 0.0 0.0\n",
            " 0.0 0.0 0.0 0.0 0.0 0.0 0.0 0.0 0.0 0.0 0.0 0.0 0.0 0.0 0.0 0.0 0.0 0.0\n",
            " 0.0 0.0 0.0 0.0 0.0 0.0 0.0 0.0 0.0 0.0 0.0 0.0 0.0 0.0 0.0 0.0 0.0 0.0\n",
            " 0.0 0.0 0.0 0.0 0.0 0.0 0.0 0.0 0.0 0.0 0.0 0.0 0.0 0.0 0.0 0.0 0.0 0.0\n",
            " 0.0 0.0 0.0 0.0 0.0 0.0 0.0 0.0 1.0 1.0 1.0 0.0 0.0 0.0 1.0 1.0 1.0 0.0\n",
            " 0.0 0.0 0.0 0.0 0.0 0.0 0.0 0.0 0.0 0.0 0.0 0.0 0.0 0.0 0.0 0.0 0.0 0.0\n",
            " 0.0 0.0 0.0 0.0 0.0 0.0 0.0 0.0 0.0 0.0 0.0 0.0 0.0 0.0 0.0 0.0 0.0 0.0\n",
            " 0.0 0.0 0.0 0.0 0.0 0.0 0.0 0.0 0.0 0.0 0.0 0.0 0.0 0.0 0.0 0.0 0.0 0.0\n",
            " 0.0 0.0 0.0 0.0 0.0 0.0 0.0 0.0 0.0 0.0 0.0 0.0 0.0 0.0 0.0 0.0 0.0 0.0\n",
            " 0.0 0.0 0.0 0.0 0.0 0.0 0.0 0.0 0.0 0.0 0.0 0.0 0.0 0.0 0.0 0.0 0.0 0.0\n",
            " 0.0 0.0 0.0 0.0 0.0 0.0 0.0 0.0 0.0 0.0 0.0 0.0 0.0 0.0 0.0 0.0 0.0 0.0\n",
            " 0.0 0.0 0.0 0.0 0.0 0.0 0.0 0.0 0.0 0.0 0.0 0.0 0.0 0.0 0.0 0.0 1.0 1.0\n",
            " 1.0 1.0 1.0 1.0 1.0 1.0 1.0 1.0 0.0 0.0 0.0 0.0 0.0 0.0 0.0 0.0 0.0 0.0\n",
            " 0.0 0.0 0.0 0.0 0.0 0.0 0.0 0.0 0.0 0.0 0.0 0.0 0.0 0.0 0.0 0.0 0.0 0.0\n",
            " 0.0 0.0 0.0 0.0 0.0 0.0 0.0 0.0 0.0 0.0 0.0 0.0 0.0 0.0 0.0 0.0 0.0 0.0\n",
            " 0.0 0.0 0.0 0.0 0.0 0.0 0.0 0.0 0.0 0.0 0.0 0.0 0.0 0.0 0.0 0.0 0.0 0.0\n",
            " 0.0 0.0 0.0 0.0 0.0 0.0 0.0 0.0 0.0 0.0 0.0 0.0 0.0 0.0 0.0 0.0 0.0 0.0\n",
            " 0.0 0.0 0.0 0.0 0.0 0.0 0.0 0.0 0.0 0.0 0.0 1.0 1.0 1.0 1.0 1.0 1.0 1.0\n",
            " 1.0 1.0 1.0 1.0 1.0 1.0 1.0 1.0 0.0 0.0 0.0 0.0 0.0 0.0 0.0 0.0 0.0 0.0\n",
            " 0.0 0.0 0.0 0.0 0.0 0.0 0.0 0.0 0.0 0.0 0.0 0.0 0.0 0.0 0.0 0.0 0.0 0.0\n",
            " 0.0 0.0 0.0 0.0 0.0 0.0 0.0 0.0 0.0 0.0 0.0 0.0 0.0 0.0 0.0 0.0 0.0 0.0\n",
            " 0.0 0.0 0.0 0.0 0.0 0.0 0.0 0.0 0.0 0.0 0.0 0.0 0.0 0.0 0.0 0.0 0.0 0.0\n",
            " 0.0 0.0 0.0 0.0 0.0 0.0 0.0 0.0 0.0 0.0 0.0 0.0 0.0 0.0 0.0 0.0 0.0 0.0\n",
            " 0.0 0.0 0.0 0.0 0.0 0.0 0.0 0.0 0.0 0.0 0.0 0.0 0.0 0.0 0.0 0.0 0.0 0.0\n",
            " 0.0 0.0 0.0 0.0 0.0 0.0 0.0 0.0 0.0 0.0 0.0 0.0 0.0 0.0 0.0 0.0 0.0 0.0\n",
            " 0.0 0.0 0.0 0.0 0.0 0.0 0.0 0.0 0.0 0.0 0.0 0.0 0.0 0.0 0.0 0.0 0.0 0.0\n",
            " 0.0 0.0 0.0 0.0 0.0 0.0 0.0 1.0 1.0 1.0 1.0 1.0 1.0 1.0 1.0 1.0 1.0 1.0\n",
            " 1.0 0.0 0.0 0.0 0.0 0.0 0.0 0.0 0.0 0.0 0.0 0.0 0.0 0.0 0.0 0.0 0.0 0.0\n",
            " 0.0 0.0 0.0 0.0 0.0 0.0 0.0 0.0 0.0 0.0 0.0 0.0 0.0 0.0 0.0 0.0 0.0 0.0\n",
            " 0.0 0.0 0.0 0.0 0.0 0.0 0.0 0.0 0.0 0.0 0.0 0.0 0.0 0.0 0.0 0.0 0.0 0.0\n",
            " 0.0 0.0 0.0 0.0 0.0 0.0 0.0 0.0 0.0 0.0 0.0 0.0 0.0 1.0 1.0 1.0 1.0 1.0\n",
            " 1.0 0.0 0.0 0.0 0.0 0.0 0.0 0.0 0.0 0.0 0.0 0.0 0.0 0.0 0.0 0.0 0.0 0.0\n",
            " 0.0 0.0 0.0 0.0 0.0 0.0 0.0 0.0 0.0 0.0 0.0 0.0 0.0 0.0 0.0 0.0 0.0 0.0\n",
            " 0.0 0.0 0.0 0.0 0.0 0.0 0.0 0.0 0.0 0.0 0.0 0.0 0.0 0.0 0.0 1.0 1.0 0.0\n",
            " 0.0 0.0 0.0 0.0 0.0 0.0 0.0 0.0 0.0 0.0 1.0 1.0 1.0 1.0 1.0 1.0 1.0 1.0\n",
            " 0.0 0.0 0.0 0.0 0.0 0.0 0.0 1.0 1.0 1.0 0.0 0.0 0.0 0.0 1.0 1.0 1.0 0.0\n",
            " 0.0 0.0 0.0 0.0 0.0 0.0 0.0 0.0 0.0 0.0 0.0 0.0 0.0 0.0 0.0 0.0 0.0 0.0\n",
            " 0.0 0.0 0.0 0.0 0.0 0.0 0.0 0.0 0.0 0.0 0.0 0.0 0.0 0.0 0.0 0.0 0.0 0.0\n",
            " 0.0 0.0 0.0 0.0 0.0 0.0 0.0 0.0 0.0 0.0 0.0 0.0 0.0 0.0 0.0 0.0 0.0 0.0\n",
            " 0.0 0.0 0.0 0.0 0.0 0.0 0.0 0.0 0.0 0.0 0.0 0.0 0.0 0.0 0.0 0.0 0.0 0.0\n",
            " 0.0 0.0 0.0 0.0 0.0 1.0 1.0 1.0]\n",
            "Counter({5: 33, 6: 28, 2: 26, 8: 22, 7: 20, 3: 20, 4: 16, 1: 11, 0: 2})\n",
            "Counter({5: 149, 2: 111, 6: 101, 7: 89, 4: 83, 8: 64, 3: 61, 1: 42, 0: 12})\n"
          ],
          "name": "stdout"
        }
      ]
    },
    {
      "cell_type": "markdown",
      "metadata": {
        "id": "CWcaSXtN5o9h",
        "colab_type": "text"
      },
      "source": [
        "As we can see the distribution of values is about the same between the train and test sets. This means we can train on the train set and make predictions on the test set to assess the accuracy of our model. We will now proceed with the gradient boosting. We want to boost in order to penalize incorrectly classified points more heavily. For further information on boosting, please visit: https://towardsdatascience.com/understanding-gradient-boosting-machines-9be756fe76ab.\n"
      ]
    },
    {
      "cell_type": "code",
      "metadata": {
        "id": "jSp0xVo4tg1w",
        "colab_type": "code",
        "outputId": "883d1c56-a20b-45a9-a629-f1d801509332",
        "colab": {
          "base_uri": "https://localhost:8080/",
          "height": 34
        }
      },
      "source": [
        "# NOTE TIME TO MODEL\n",
        "# FIRST CAN TRY MODELING DIRECTLY ON THE LEGENDARIES\n",
        "legend_mod = GB().fit(cluster_points[train_indices,:],legend_train)\n",
        "legend_mod.score(cluster_points[test_indices,:],legend_test)"
      ],
      "execution_count": 138,
      "outputs": [
        {
          "output_type": "execute_result",
          "data": {
            "text/plain": [
              "0.9550561797752809"
            ]
          },
          "metadata": {
            "tags": []
          },
          "execution_count": 138
        }
      ]
    },
    {
      "cell_type": "markdown",
      "metadata": {
        "id": "ke8aK9IIykvu",
        "colab_type": "text"
      },
      "source": [
        "The overall accuracy after is satisfactory, but the goal of the problem is to label whether a pokemon is strong or not, which by our hypothesis would mean that the Pokemon is legendary. Thus, we will label the cluster with the most legendary Pokemon after boosting as the Legendary Cluster, and the other clusters as the Non-legendary cluster."
      ]
    },
    {
      "cell_type": "code",
      "metadata": {
        "id": "JnRgRctjAk7s",
        "colab_type": "code",
        "outputId": "a5b2cab7-6d82-473f-fe55-cc387a82a18e",
        "colab": {
          "base_uri": "https://localhost:8080/",
          "height": 122
        }
      },
      "source": [
        "# NOTE NOW NEED TO CREATE A LABEL FOR THE LARGER CLUSTER\n",
        "max_size = 0\n",
        "max_clust = 0\n",
        "for clust in legend_sizes:\n",
        "  if legend_sizes[clust] > max_size:\n",
        "    max_size = legend_sizes[clust]\n",
        "    max_clust = clust\n",
        "is_max_clust = []\n",
        "for lab in poke_clust.labels_:\n",
        "  if lab == max_clust:\n",
        "    is_max_clust.append(1.0)\n",
        "  else:\n",
        "    is_max_clust.append(0.0)\n",
        "is_max_clust_train = []\n",
        "is_max_clust_test = []\n",
        "for i in range(len(is_max_clust)):\n",
        "  if i in test_set:\n",
        "    is_max_clust_test.append(is_max_clust[i])\n",
        "  else:\n",
        "    is_max_clust_train.append(is_max_clust[i])\n",
        "print(len(is_max_clust_train))\n",
        "print(len(is_max_clust_test))\n",
        "print(is_max_clust_test)\n",
        "print(Counter(is_max_clust_test))\n",
        "print(Counter(is_max_clust_train))"
      ],
      "execution_count": 139,
      "outputs": [
        {
          "output_type": "stream",
          "text": [
            "712\n",
            "178\n",
            "[0.0, 0.0, 0.0, 0.0, 0.0, 0.0, 0.0, 0.0, 0.0, 0.0, 0.0, 0.0, 0.0, 0.0, 0.0, 0.0, 0.0, 0.0, 0.0, 0.0, 0.0, 0.0, 0.0, 0.0, 0.0, 0.0, 0.0, 0.0, 0.0, 0.0, 0.0, 0.0, 1.0, 0.0, 0.0, 0.0, 0.0, 0.0, 0.0, 0.0, 0.0, 0.0, 0.0, 0.0, 0.0, 0.0, 0.0, 0.0, 1.0, 0.0, 1.0, 0.0, 0.0, 0.0, 0.0, 0.0, 0.0, 0.0, 1.0, 0.0, 0.0, 0.0, 0.0, 1.0, 0.0, 0.0, 0.0, 0.0, 0.0, 0.0, 1.0, 0.0, 1.0, 1.0, 0.0, 0.0, 0.0, 0.0, 0.0, 0.0, 0.0, 0.0, 0.0, 0.0, 0.0, 0.0, 0.0, 0.0, 0.0, 1.0, 1.0, 1.0, 0.0, 0.0, 0.0, 0.0, 0.0, 0.0, 0.0, 0.0, 0.0, 0.0, 0.0, 0.0, 0.0, 0.0, 0.0, 0.0, 0.0, 0.0, 0.0, 0.0, 0.0, 0.0, 0.0, 0.0, 0.0, 0.0, 0.0, 1.0, 0.0, 0.0, 0.0, 0.0, 0.0, 0.0, 0.0, 1.0, 1.0, 0.0, 0.0, 0.0, 0.0, 0.0, 0.0, 0.0, 0.0, 0.0, 0.0, 0.0, 0.0, 1.0, 0.0, 0.0, 0.0, 0.0, 0.0, 0.0, 0.0, 0.0, 0.0, 0.0, 0.0, 1.0, 0.0, 0.0, 0.0, 0.0, 1.0, 1.0, 0.0, 1.0, 1.0, 0.0, 0.0, 0.0, 0.0, 0.0, 0.0, 0.0, 0.0, 0.0, 0.0, 0.0, 0.0, 0.0, 0.0, 0.0]\n",
            "Counter({0.0: 158, 1.0: 20})\n",
            "Counter({0.0: 651, 1.0: 61})\n"
          ],
          "name": "stdout"
        }
      ]
    },
    {
      "cell_type": "code",
      "metadata": {
        "id": "tFKgF0TmV9Vf",
        "colab_type": "code",
        "outputId": "2b10aea1-bfa5-4e93-80fc-e9f8a8a871cc",
        "colab": {
          "base_uri": "https://localhost:8080/",
          "height": 34
        }
      },
      "source": [
        "# NOTE CAN MODEL ON THIS CLUSTERED DATA\n",
        "legend_mod_clust = GB().fit(cluster_points[train_indices,:],is_max_clust_train)\n",
        "legend_mod_clust.score(cluster_points[test_indices,:],is_max_clust_test)"
      ],
      "execution_count": 140,
      "outputs": [
        {
          "output_type": "execute_result",
          "data": {
            "text/plain": [
              "0.8146067415730337"
            ]
          },
          "metadata": {
            "tags": []
          },
          "execution_count": 140
        }
      ]
    },
    {
      "cell_type": "markdown",
      "metadata": {
        "id": "sfz2MH_7zfRE",
        "colab_type": "text"
      },
      "source": [
        "Our new cluster has 81.4% accuracy, a dropoff from our old 97% accuracy. Let's see how many of the points were correctly labeled as legendary."
      ]
    },
    {
      "cell_type": "code",
      "metadata": {
        "id": "njZJRrp0W_SX",
        "colab_type": "code",
        "outputId": "e652b217-2609-4438-d056-16ba7a3c6887",
        "colab": {
          "base_uri": "https://localhost:8080/",
          "height": 34
        }
      },
      "source": [
        "# NOTE WANT TO SEE HOW MANY LEGENDARIES WERE CORRECTLY PREDICTED\n",
        "preds = legend_mod_clust.predict(cluster_points[test_indices,:])\n",
        "cor_count = 0\n",
        "count_legend = Counter(is_max_clust_test)[1.0]\n",
        "for i in range(len(preds)):\n",
        "  if preds[i] == 1.0 and is_max_clust_test[i] == 1.0:\n",
        "    cor_count = cor_count + 1\n",
        "print(cor_count/sum(preds))"
      ],
      "execution_count": 141,
      "outputs": [
        {
          "output_type": "stream",
          "text": [
            "0.15789473684210525\n"
          ],
          "name": "stdout"
        }
      ]
    },
    {
      "cell_type": "markdown",
      "metadata": {
        "id": "vXWC6Qbgzth6",
        "colab_type": "text"
      },
      "source": [
        "This number is a lot lower. Contrary to our prior model, this model seems to suggest that there is no clear cluster of legendary Pokemon based on all of the base stats.\n",
        "\n",
        "#Conclusion and Future Steps\n",
        "In conclusion we noticed that the model accuracy dropped after clustering both overall and with the reclustering. This is interesting because of the sparce nature of the data may have caused the model to predict that very few legendaries were actually legendaries. Another cause for this issue may be due to the small size of the entire dataset, and the search space for the optimal number of clusters may have been too small.\n",
        "Furthermore, the boost model has a feature importance’s attribute that could be varied depending on implementation. The fact that the correlation matrix was rather odd may have had this effect.\n",
        "\n",
        "In the future, if the inital model is to be pursued, changing the kernel may improve accuracy. For the K-means with gradient boosting method, it may be beneficial to try a different boosting method, as well as increasing the search space for the optimal initial clustering. As for further innovations to this problem, one could consider the Type feature more heavily, as the Type distribution did appear to be different based on legendary status. This could be done perhaps by one-hot encoding the Type variable. A potential problem to this however, is that there are many different types in the Pokemon universe. \n",
        "\n",
        "As a final note, although the question of whether a Pokemon is legendary appears simple from the elementary data analysis and SVM model, there did not appear to be a clear cluster of legendary Pokemon when the dataset was clustered and boosted. This may be due to the presence of a fair amount of weak legendary Pokemon, as well as a large amount of statistically strong non-legendary Pokemon. "
      ]
    }
  ]
}